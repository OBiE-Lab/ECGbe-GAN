{
 "cells": [
  {
   "cell_type": "markdown",
   "metadata": {},
   "source": [
    "### ECGbe-GAN: A novel deep learning approach for eliminating ECG interference from EMG data\n",
    "Lucas Haberkamp<sup>1,2,3</sup> Charles A. Weisenbach<sup>1,2</sup> Peter Le<sup>4</sup>  \n",
    "<sup>1</sup>Naval Medical Research Unit Dayton, Wright-Patterson Air Force Base, OH, USA   \n",
    "<sup>2</sup>Oak Ridge Institute for Science and Education, Oak Ridge, TN, USA   \n",
    "<sup>3</sup>Leidos, Reston, VA, USA   \n",
    "<sup>4</sup>Air Force Research Laboratory, 711th Human Performance Wing, Wright-Patterson Air Force Base, OH, USA \n",
    "\n",
    "#### This notebook is used to generate plots demonstating the filtering performance of ECGbe-GAN, Supervised Deep Learning, and the High-Pass Filter"
   ]
  },
  {
   "cell_type": "code",
   "execution_count": null,
   "metadata": {},
   "outputs": [],
   "source": [
    "import numpy as np \n",
    "import matplotlib.pyplot as plt"
   ]
  },
  {
   "cell_type": "markdown",
   "metadata": {},
   "source": [
    "Load Data and create a time-axis"
   ]
  },
  {
   "cell_type": "code",
   "execution_count": null,
   "metadata": {},
   "outputs": [],
   "source": [
    "hpf = np.load('../../Data/Synthetic Predictions/HPF.npy')\n",
    "supervised = np.load('../../Data/Synthetic Predictions/Supervised.npy')\n",
    "ecgbe_gan = np.load('../../Data/Synthetic Predictions/ECGbe-GAN.npy')\n",
    "\n",
    "raw = np.load('../../Data/Training Data/Validation/x_val.npy')\n",
    "truth = np.load('../../Data/Training Data/Validation/y_val.npy')\n",
    "\n",
    "data = [truth, ecgbe_gan, supervised, hpf]\n",
    "\n",
    "t = np.arange(800)/1920\n"
   ]
  },
  {
   "cell_type": "markdown",
   "metadata": {},
   "source": [
    "Plot Data and Save"
   ]
  },
  {
   "cell_type": "code",
   "execution_count": null,
   "metadata": {},
   "outputs": [],
   "source": [
    "for trial in range(101):\n",
    "\n",
    "    fig, ax = plt.subplots(nrows=3, ncols=1, sharex=True, figsize=(6, 14))\n",
    "\n",
    "    # Plot the raw data in the top subplot\n",
    "    ax[0].plot(t, raw[trial], color='black', linewidth=1.5, label='Contaminated EMG', linestyle='dotted')\n",
    "    ax[0].plot(t, truth[trial], color='black', linewidth=1.5, label='Ground Truth')\n",
    "    ax[0].plot(t, ecgbe_gan[trial], color='#1E90FF', linewidth=1.25, label='ECGbe-GAN')\n",
    "\n",
    "    ax[1].plot(t, raw[trial], color='black', linewidth=1.5, label='Contaminated EMG', linestyle='dotted')\n",
    "    ax[1].plot(t, truth[trial], color='black', linewidth=1.5, label='Ground Truth')\n",
    "    ax[1].plot(t, supervised[trial], color='#2ca02c', linewidth=1.25, label='Supervised')\n",
    "\n",
    "    ax[2].plot(t, raw[trial], color='black', linewidth=1.5, label='Contaminated EMG', linestyle='dotted')\n",
    "    ax[2].plot(t, truth[trial], color='black', linewidth=1.5, label='Ground Truth')\n",
    "    ax[2].plot(t, hpf[trial], color='#ff7f0e', linewidth=1.25, label='HPF')\n",
    "\n",
    "    # Add legend and axis labels\n",
    "    ax[0].legend(loc='upper right', fontsize=14)\n",
    "    ax[1].legend(loc='upper right', fontsize=14)\n",
    "    ax[2].legend(loc='upper right', fontsize=14)\n",
    "\n",
    "    ax[0].set_ylabel('Normalized Amplitude (||V||)', fontsize=14)\n",
    "    ax[1].set_ylabel('Normalized Amplitude (||V||)', fontsize=14)\n",
    "    ax[2].set_ylabel('Normalized Amplitude (||V||)', fontsize=14)\n",
    "\n",
    "    ax[2].set_xlabel('Time (s)', fontsize=14)\n",
    "\n",
    "    # Set title for each subplot\n",
    "    ax[0].set_title('ECGbe-GAN', fontsize=14)\n",
    "    ax[1].set_title('Supervised', fontsize=14)\n",
    "    ax[2].set_title('High Pass Filter', fontsize=14)\n",
    "\n",
    "    plt.xlim([t[0],t[-1]])\n",
    "\n",
    "    # Set tight layout\n",
    "    plt.tight_layout()\n",
    "    # # Save the figure\n",
    "    plt.savefig(\"../../Plots/Synthetic Validation Examples/Sample \" + str(trial) + \" Prediction.png\", dpi=300)\n",
    "    plt.show()\n"
   ]
  }
 ],
 "metadata": {
  "kernelspec": {
   "display_name": "Python 3.8.13 ('ml')",
   "language": "python",
   "name": "python3"
  },
  "language_info": {
   "codemirror_mode": {
    "name": "ipython",
    "version": 3
   },
   "file_extension": ".py",
   "mimetype": "text/x-python",
   "name": "python",
   "nbconvert_exporter": "python",
   "pygments_lexer": "ipython3",
   "version": "3.8.13"
  },
  "orig_nbformat": 4,
  "vscode": {
   "interpreter": {
    "hash": "ed17bba15b2f81cf1230037794da0c0f111480f5f2f8146275a9e25508496a65"
   }
  }
 },
 "nbformat": 4,
 "nbformat_minor": 2
}
