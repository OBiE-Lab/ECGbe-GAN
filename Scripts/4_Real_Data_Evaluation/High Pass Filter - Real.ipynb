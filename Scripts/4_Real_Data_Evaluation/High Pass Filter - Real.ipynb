{
 "cells": [
  {
   "cell_type": "markdown",
   "id": "d72e7708",
   "metadata": {},
   "source": [
    "### ECGbe-GAN: A novel deep learning approach for eliminating ECG interference from EMG data\n",
    "Lucas Haberkamp<sup>1,2,3</sup> Charles A. Weisenbach<sup>1,2</sup> Peter Le<sup>4</sup>  \n",
    "<sup>1</sup>Naval Medical Research Unit Dayton, Wright-Patterson Air Force Base, OH, USA   \n",
    "<sup>2</sup>Oak Ridge Institute for Science and Education, Oak Ridge, TN, USA   \n",
    "<sup>3</sup>Leidos, Reston, VA, USA   \n",
    "<sup>4</sup>Air Force Research Laboratory, 711th Human Performance Wing, Wright-Patterson Air Force Base, OH, USA \n",
    "\n",
    "#### This notebook is used to evaluate the 4th order Butterworth high-pass filter with a 30-Hz cutoff frequency on the experimental dataset"
   ]
  },
  {
   "cell_type": "code",
   "execution_count": 1,
   "id": "0983e58c",
   "metadata": {},
   "outputs": [
    {
     "ename": "ModuleNotFoundError",
     "evalue": "No module named 'dash'",
     "output_type": "error",
     "traceback": [
      "\u001b[0;31m---------------------------------------------------------------------------\u001b[0m",
      "\u001b[0;31mModuleNotFoundError\u001b[0m                       Traceback (most recent call last)",
      "\u001b[1;32m/Users/lukehaberkamp/Desktop/ECGbe-GAN-base-copy/Scripts/4_Real_Data_Evaluation/High Pass Filter - Real.ipynb Cell 2\u001b[0m in \u001b[0;36m<cell line: 2>\u001b[0;34m()\u001b[0m\n\u001b[1;32m      <a href='vscode-notebook-cell:/Users/lukehaberkamp/Desktop/ECGbe-GAN-base-copy/Scripts/4_Real_Data_Evaluation/High%20Pass%20Filter%20-%20Real.ipynb#W1sZmlsZQ%3D%3D?line=0'>1</a>\u001b[0m \u001b[39mimport\u001b[39;00m \u001b[39mos\u001b[39;00m\n\u001b[0;32m----> <a href='vscode-notebook-cell:/Users/lukehaberkamp/Desktop/ECGbe-GAN-base-copy/Scripts/4_Real_Data_Evaluation/High%20Pass%20Filter%20-%20Real.ipynb#W1sZmlsZQ%3D%3D?line=1'>2</a>\u001b[0m \u001b[39mimport\u001b[39;00m \u001b[39mdash\u001b[39;00m\n\u001b[1;32m      <a href='vscode-notebook-cell:/Users/lukehaberkamp/Desktop/ECGbe-GAN-base-copy/Scripts/4_Real_Data_Evaluation/High%20Pass%20Filter%20-%20Real.ipynb#W1sZmlsZQ%3D%3D?line=2'>3</a>\u001b[0m \u001b[39mimport\u001b[39;00m \u001b[39mdash_core_components\u001b[39;00m \u001b[39mas\u001b[39;00m \u001b[39mdcc\u001b[39;00m\n\u001b[1;32m      <a href='vscode-notebook-cell:/Users/lukehaberkamp/Desktop/ECGbe-GAN-base-copy/Scripts/4_Real_Data_Evaluation/High%20Pass%20Filter%20-%20Real.ipynb#W1sZmlsZQ%3D%3D?line=3'>4</a>\u001b[0m \u001b[39mimport\u001b[39;00m \u001b[39mdash_html_components\u001b[39;00m \u001b[39mas\u001b[39;00m \u001b[39mhtml\u001b[39;00m\n",
      "\u001b[0;31mModuleNotFoundError\u001b[0m: No module named 'dash'"
     ]
    }
   ],
   "source": [
    "import os\n",
    "import numpy as np\n",
    "import pandas as pd\n",
    "import matplotlib.pyplot as plt\n",
    "from scipy import signal\n",
    "import plotly.graph_objects as go\n",
    "import plotly.subplots as sp"
   ]
  },
  {
   "cell_type": "markdown",
   "id": "72614d7c",
   "metadata": {},
   "source": [
    "Define helper function to load in EMG dataset"
   ]
  },
  {
   "cell_type": "code",
   "execution_count": 9,
   "id": "f001ccbb",
   "metadata": {},
   "outputs": [],
   "source": [
    "# fill_nan should be used with classification ground truth data. prevents a nan label.\n",
    "def extractdf(data_path):\n",
    "    file_list, df_list = [], [] # initialize lists\n",
    "    for filename in sorted(os.listdir(data_path)):\n",
    "        f = os.path.join(data_path, filename) \n",
    "        if os.path.splitext(filename)[1] == '.csv':\n",
    "            current_file = os.path.splitext(filename)[0] # get the identifier of the participant from the file\n",
    "            file_list.append(current_file)  \n",
    "            tmp_df = pd.read_csv(f, header=13)\n",
    "            df_list.append(tmp_df)\n",
    "\n",
    "    return df_list, file_list"
   ]
  },
  {
   "cell_type": "markdown",
   "id": "c6a17d47",
   "metadata": {},
   "source": [
    "Load experimental validation dataset"
   ]
  },
  {
   "cell_type": "code",
   "execution_count": 10,
   "id": "ae8e761f",
   "metadata": {},
   "outputs": [
    {
     "name": "stdout",
     "output_type": "stream",
     "text": [
      "Files in the dataset: ['TrunkStability_DS_S20_EMG_Raw_12', 'TrunkStability_DS_S20_EMG_Raw_17', 'TrunkStability_DS_S20_EMG_Raw_47', 'TrunkStability_DS_S20_EMG_Raw_56']\n"
     ]
    }
   ],
   "source": [
    "# Specify paths\n",
    "path = '../../Data/Raw TS EMG Data/Validation'\n",
    "\n",
    "# Extract the data as dataframes stored into lists\n",
    "data_list, file_list = extractdf(path)\n",
    "\n",
    "print(\"Files in the dataset:\", file_list)"
   ]
  },
  {
   "cell_type": "markdown",
   "id": "aa9b5573",
   "metadata": {},
   "source": [
    "Movement List:   \n",
    "TrunkStability_DS_S20_EMG_Raw_12 - Deep Sagittal Flexion 20lb Lift  \n",
    "TrunkStability_DS_S20_EMG_Raw_17 - Sit-to-Stand  \n",
    "TrunkStability_DS_S20_EMG_Raw_47 - Prolonged Seated Task  \n",
    "TrunkStability_DS_S20_EMG_Raw_56 - Standing Neutral"
   ]
  },
  {
   "cell_type": "code",
   "execution_count": 11,
   "id": "1bf866a4",
   "metadata": {},
   "outputs": [],
   "source": [
    "mvmt_list = [\"Sagittal Flexion\", \"Sit-to-Stand\", \n",
    "    \"Seated Task\", \"Standing Neutral\"]\n",
    "\n",
    "# Define hyperparameters\n",
    "muscle_list = data_list[0].columns[3:]\n",
    "Fs = 1920\n",
    "\n",
    "# Define a new set of more descriptive names for each EMG sensor\n",
    "better_muscle_names = ['Right Erector Spinae',\n",
    "    'Left Erector Spinae',\n",
    "    'Right Internal Oblique',\n",
    "    'Left Internal Oblique',\n",
    "    'Right Latissimus Dorsi',\n",
    "    'Left Latissimus Dorsi',\n",
    "    'Right Rectus Abdominis',\n",
    "    'Left Rectus Abdominis',\n",
    "    'Right External Oblique',\n",
    "    'Left External Oblique']"
   ]
  },
  {
   "cell_type": "markdown",
   "id": "b258e968",
   "metadata": {},
   "source": [
    "Define a Butterwoth filter function"
   ]
  },
  {
   "cell_type": "code",
   "execution_count": 12,
   "id": "f66c1c8f",
   "metadata": {},
   "outputs": [],
   "source": [
    "# Function to butterworth filter the data\n",
    "def butterfilter(x, Fc, Fs, type):\n",
    "    Wn = np.asarray(Fc)/np.asarray(Fs/2)\n",
    "    b, a = signal.butter(2, Wn, type)\n",
    "    return signal.filtfilt(b,a,x)"
   ]
  },
  {
   "cell_type": "markdown",
   "id": "71bf9744",
   "metadata": {},
   "source": [
    "Process each trial with the high-pass filtering approach and create dynamic plots using Plotly"
   ]
  },
  {
   "cell_type": "code",
   "execution_count": 15,
   "id": "d4d79598",
   "metadata": {},
   "outputs": [],
   "source": [
    "for mvmt, df in enumerate(data_list):\n",
    "    df = df[muscle_list]\n",
    "    df -= df.mean() # Ensure data has zero mean\n",
    "    df = df.apply(lambda x: butterfilter(x, Fc=500, Fs=1920, type='low')) # Remove unwanted high-frequency components\n",
    "\n",
    "    df_pred = df.apply(lambda x: butterfilter(x, Fc=30, Fs=1920, type='high')) # Apply the Butterworth high pass filter\n",
    "    # save raw data to a .csv file\n",
    "    df.to_csv(f\"../../Data/Experimental Predictions/RAW_{mvmt_list[mvmt]}.csv\", index=False)\n",
    "    # save predicted data to a .csv file\n",
    "    df_pred.to_csv(f\"../../Data/Experimental Predictions/HPF_{mvmt_list[mvmt]}.csv\", index=False)\n",
    "    \n",
    "    # Define time-axis\n",
    "    t = np.arange(len(df))/1920\n",
    "    c = 0\n",
    "\n",
    "    start_idx = 0\n",
    "    end_idx = -1\n",
    "\n",
    "    fig = sp.make_subplots(\n",
    "        rows=5,\n",
    "        cols=2,\n",
    "        subplot_titles=[f\"HPF: {mvmt_list[mvmt]} - {better_muscle_names[i]}\" for i, col in enumerate(df.columns)],\n",
    "        vertical_spacing=0.05,\n",
    "        horizontal_spacing=0.05,  # Add horizontal_spacing to reduce the space between subplots horizontally\n",
    "        specs=[[{}, {}]] * 5,\n",
    "    )\n",
    "\n",
    "    for i in range(5):\n",
    "        for j in range(2):\n",
    "            showlegend_flag = True if (i, j) == (0, 0) else False\n",
    "            fig.add_trace(go.Scatter(x=t[start_idx:end_idx], y=df.iloc[start_idx:end_idx, c], name=\"Contaminated EMG\", legendgroup=\"Contaminated EMG\", line=dict(color=\"black\", width=2), showlegend=showlegend_flag), row=i+1, col=j+1)\n",
    "            fig.add_trace(go.Scatter(x=t[start_idx:end_idx], y=df_pred.iloc[start_idx:end_idx, c], name=\"High Pass Filter\", legendgroup=\"High Pass Filter\", showlegend=showlegend_flag, line=dict(color=\"red\", width=2)), row=i+1, col=j+1)\n",
    "            \n",
    "            xaxis_title = \"Time (s)\" if i == 4 else None\n",
    "            yaxis_title = \"Amplitude (mV)\" if j == 0 else None\n",
    "            \n",
    "            fig.update_xaxes(title_text=xaxis_title, row=i+1, col=j+1, showgrid=True, gridwidth=1, gridcolor=\"LightGrey\", title_standoff=10, tickfont=dict(size=10), title_font=dict(size=12))  # Update title_font for x-axis\n",
    "            fig.update_yaxes(title_text=yaxis_title, row=i+1, col=j+1, showgrid=True, gridwidth=1, gridcolor=\"LightGrey\", title_standoff=10, tickfont=dict(size=10), title_font=dict(size=12))  # Update title_font for y-axis\n",
    "            \n",
    "            c += 1\n",
    "\n",
    "        fig.update_layout(\n",
    "            height=1200,\n",
    "            width=1000,\n",
    "            legend=dict(orientation=\"h\", yanchor=\"bottom\", y=1.02, xanchor=\"right\", x=1, font=dict(size=12)),\n",
    "            plot_bgcolor=\"white\",\n",
    "            margin=dict(l=10, r=10, t=100, b=50, autoexpand=True),  # set l and r to center the plot\n",
    "        )\n",
    "    \n",
    "    fig.show()\n",
    "\n",
    "    # html_string = f'''\n",
    "    # <!DOCTYPE html>\n",
    "    # <html>\n",
    "    # <head>\n",
    "    #     <meta charset=\"UTF-8\">\n",
    "    #     <meta name=\"viewport\" content=\"width=device-width, initial-scale=1\">\n",
    "    #     <style>\n",
    "    #         .plotly-chart-container {{\n",
    "    #             display: flex;\n",
    "    #             justify-content: center;\n",
    "    #             align-items: center;\n",
    "    #             height: 100%;\n",
    "    #             width: 100%;\n",
    "    #         }}\n",
    "    #     </style>\n",
    "    # </head>\n",
    "    # <body>\n",
    "    #     <div class=\"plotly-chart-container\">\n",
    "    #         {fig.to_html(full_html=False, include_plotlyjs='cdn')}\n",
    "    #     </div>\n",
    "    # </body>\n",
    "    # </html>\n",
    "    # '''\n",
    "\n",
    "    # with open(f\"../../Plots/Experimental Validation Examples/High Pass Filter/HPF_{mvmt_list[mvmt]}.html\", \"w\") as f:\n",
    "    #     f.write(html_string)\n",
    "        \n",
    "    # fig.show()"
   ]
  }
 ],
 "metadata": {
  "kernelspec": {
   "display_name": "Python 3.8.13 ('ml')",
   "language": "python",
   "name": "python3"
  },
  "language_info": {
   "codemirror_mode": {
    "name": "ipython",
    "version": 3
   },
   "file_extension": ".py",
   "mimetype": "text/x-python",
   "name": "python",
   "nbconvert_exporter": "python",
   "pygments_lexer": "ipython3",
   "version": "3.8.13"
  },
  "vscode": {
   "interpreter": {
    "hash": "ed17bba15b2f81cf1230037794da0c0f111480f5f2f8146275a9e25508496a65"
   }
  }
 },
 "nbformat": 4,
 "nbformat_minor": 5
}
